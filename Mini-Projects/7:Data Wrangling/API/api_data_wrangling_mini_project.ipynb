{
 "cells": [
  {
   "cell_type": "markdown",
   "metadata": {},
   "source": [
    "This exercise will require you to pull some data from the Qunadl API. Qaundl is currently the most widely used aggregator of financial market data."
   ]
  },
  {
   "cell_type": "markdown",
   "metadata": {},
   "source": [
    "As a first step, you will need to register a free account on the http://www.quandl.com website."
   ]
  },
  {
   "cell_type": "markdown",
   "metadata": {},
   "source": [
    "After you register, you will be provided with a unique API key, that you should store:"
   ]
  },
  {
   "cell_type": "code",
   "execution_count": 9,
   "metadata": {},
   "outputs": [],
   "source": [
    "# Store the API key as a string - according to PEP8, constants are always named in all upper case\n",
    "API_KEY = '-_ya8w8visQCGkZygD5r'"
   ]
  },
  {
   "cell_type": "markdown",
   "metadata": {},
   "source": [
    "Qaundl has a large number of data sources, but, unfortunately, most of them require a Premium subscription. Still, there are also a good number of free datasets."
   ]
  },
  {
   "cell_type": "markdown",
   "metadata": {},
   "source": [
    "For this mini project, we will focus on equities data from the Frankfurt Stock Exhange (FSE), which is available for free. We'll try and analyze the stock prices of a company called Carl Zeiss Meditec, which manufactures tools for eye examinations, as well as medical lasers for laser eye surgery: https://www.zeiss.com/meditec/int/home.html. The company is listed under the stock ticker AFX_X."
   ]
  },
  {
   "cell_type": "markdown",
   "metadata": {},
   "source": [
    "You can find the detailed Quandl API instructions here: https://docs.quandl.com/docs/time-series"
   ]
  },
  {
   "cell_type": "markdown",
   "metadata": {},
   "source": [
    "While there is a dedicated Python package for connecting to the Quandl API, we would prefer that you use the *requests* package, which can be easily downloaded using *pip* or *conda*. You can find the documentation for the package here: http://docs.python-requests.org/en/master/ "
   ]
  },
  {
   "cell_type": "markdown",
   "metadata": {},
   "source": [
    "Finally, apart from the *requests* package, you are encouraged to not use any third party Python packages, such as *pandas*, and instead focus on what's available in the Python Standard Library (the *collections* module might come in handy: https://pymotw.com/3/collections/ ).\n",
    "Also, since you won't have access to DataFrames, you are encouraged to us Python's native data structures - preferably dictionaries, though some questions can also be answered using lists.\n",
    "You can read more on these data structures here: https://docs.python.org/3/tutorial/datastructures.html"
   ]
  },
  {
   "cell_type": "markdown",
   "metadata": {},
   "source": [
    "Keep in mind that the JSON responses you will be getting from the API map almost one-to-one to Python's dictionaries. Unfortunately, they can be very nested, so make sure you read up on indexing dictionaries in the documentation provided above."
   ]
  },
  {
   "cell_type": "code",
   "execution_count": 1,
   "metadata": {},
   "outputs": [],
   "source": [
    "# First, import the relevant modules\n",
    "\n",
    "import requests\n"
   ]
  },
  {
   "cell_type": "code",
   "execution_count": 54,
   "metadata": {},
   "outputs": [],
   "source": [
    "# Now, call the Quandl API and pull out a small sample of the data (only one day) to get a glimpse\n",
    "# into the JSON structure that will be returned\n",
    "\n",
    "\n",
    "url='https://www.quandl.com/api/v3/datasets/FSE/AFX_X.json?'\n",
    "params=dict(api_key=API_KEY)\n",
    "res=requests.get(url,params=params)\n",
    "json=res.json()"
   ]
  },
  {
   "cell_type": "code",
   "execution_count": 62,
   "metadata": {},
   "outputs": [
    {
     "data": {
      "text/plain": [
       "['Date',\n",
       " 'Open',\n",
       " 'High',\n",
       " 'Low',\n",
       " 'Close',\n",
       " 'Change',\n",
       " 'Traded Volume',\n",
       " 'Turnover',\n",
       " 'Last Price of the Day',\n",
       " 'Daily Traded Units',\n",
       " 'Daily Turnover']"
      ]
     },
     "execution_count": 62,
     "metadata": {},
     "output_type": "execute_result"
    }
   ],
   "source": [
    "json['dataset']['column_names']"
   ]
  },
  {
   "cell_type": "code",
   "execution_count": 57,
   "metadata": {},
   "outputs": [],
   "source": [
    "# Inspect the JSON structure of the object you created, and take note of how nested it is,\n",
    "\n",
    "#1\n",
    "\n",
    "params=dict(api_key=API_KEY,start_date='2017-01-01',end_date='2017-12-31')\n",
    "res=requests.get(url,params=params)"
   ]
  },
  {
   "cell_type": "code",
   "execution_count": 58,
   "metadata": {},
   "outputs": [],
   "source": [
    "#2\n",
    "y2017=res.json()"
   ]
  },
  {
   "cell_type": "code",
   "execution_count": 70,
   "metadata": {},
   "outputs": [
    {
     "name": "stdout",
     "output_type": "stream",
     "text": [
      "The highest opening prices in this period was :  53.11\n",
      "The lowest opening prices in this period was :  34.0\n"
     ]
    }
   ],
   "source": [
    "#3\n",
    "opening_prices=[]\n",
    "\n",
    "for i in range (len(y2017['dataset']['data'])) :\n",
    "    if y2017['dataset']['data'][i][1] != None : \n",
    "        opening_prices.append(y2017['dataset']['data'][i][1])\n",
    "    \n",
    "print('The highest opening prices in this period was : ', max(opening_prices))\n",
    "print('The lowest opening prices in this period was : ', min(opening_prices))"
   ]
  },
  {
   "cell_type": "code",
   "execution_count": 81,
   "metadata": {},
   "outputs": [
    {
     "name": "stdout",
     "output_type": "stream",
     "text": [
      "The maximum change of price over a day was :  2.8100000000000023\n"
     ]
    }
   ],
   "source": [
    "#4\n",
    "\n",
    "one_day_change=[]\n",
    "\n",
    "for i in range (len(y2017['dataset']['data'])) :\n",
    "    if ((y2017['dataset']['data'][i][2] != None) and (y2017['dataset']['data'][i][3] != None)) : \n",
    "        one_day_change.append(y2017['dataset']['data'][i][2]- y2017['dataset']['data'][i][3])\n",
    "     \n",
    "print('The maximum change of price over a day was : ', max(one_day_change))\n"
   ]
  },
  {
   "cell_type": "code",
   "execution_count": 80,
   "metadata": {},
   "outputs": [
    {
     "name": "stdout",
     "output_type": "stream",
     "text": [
      "The maximum change of price over two days was :  2.559999999999995\n"
     ]
    }
   ],
   "source": [
    "#5\n",
    "\n",
    "two_day_change=[]\n",
    "\n",
    "for i in range (len(y2017['dataset']['data'])-1) :\n",
    "    if ((y2017['dataset']['data'][i][2] != None) and (y2017['dataset']['data'][i+1][4] != None)) : \n",
    "        two_day_change.append(abs(y2017['dataset']['data'][i][4]-y2017['dataset']['data'][i+1][4]))\n",
    "     \n",
    "print('The maximum change of price over two days was : ', max(two_day_change))\n"
   ]
  },
  {
   "cell_type": "code",
   "execution_count": 86,
   "metadata": {},
   "outputs": [
    {
     "name": "stdout",
     "output_type": "stream",
     "text": [
      "The average trading volume over 2017 was :  89124.33725490196\n"
     ]
    }
   ],
   "source": [
    "#6\n",
    "\n",
    "trading_volume=[]\n",
    "\n",
    "for i in range (len(y2017['dataset']['data'])) :\n",
    "    if (y2017['dataset']['data'][i][6] != None): \n",
    "       trading_volume.append(y2017['dataset']['data'][i][6])\n",
    "        \n",
    "avg=0\n",
    "        \n",
    "for i in range(len(trading_volume)) :\n",
    "        avg+=trading_volume[i]\n",
    "\n",
    "avg=avg/len(trading_volume)\n",
    "    \n",
    "     \n",
    "print('The average trading volume over 2017 was : ', avg)"
   ]
  },
  {
   "cell_type": "code",
   "execution_count": 97,
   "metadata": {},
   "outputs": [
    {
     "name": "stdout",
     "output_type": "stream",
     "text": [
      "the median trading volume was :  76600.0\n"
     ]
    }
   ],
   "source": [
    "#7\n",
    "trading_volume.sort()\n",
    "\n",
    "print('the median trading volume was : ', trading_volume[len(trading_volume)//2+1])"
   ]
  },
  {
   "cell_type": "markdown",
   "metadata": {},
   "source": [
    "These are your tasks for this mini project:\n",
    "\n",
    "1. Collect data from the Franfurt Stock Exchange, for the ticker AFX_X, for the whole year 2017 (keep in mind that the date format is YYYY-MM-DD).\n",
    "2. Convert the returned JSON object into a Python dictionary.\n",
    "3. Calculate what the highest and lowest opening prices were for the stock in this period.\n",
    "4. What was the largest change in any one day (based on High and Low price)?\n",
    "5. What was the largest change between any two days (based on Closing Price)?\n",
    "6. What was the average daily trading volume during this year?\n",
    "7. (Optional) What was the median trading volume during this year. (Note: you may need to implement your own function for calculating the median.)"
   ]
  },
  {
   "cell_type": "code",
   "execution_count": null,
   "metadata": {
    "collapsed": true
   },
   "outputs": [],
   "source": []
  }
 ],
 "metadata": {
  "kernelspec": {
   "display_name": "Python 3",
   "language": "python",
   "name": "python3"
  },
  "language_info": {
   "codemirror_mode": {
    "name": "ipython",
    "version": 3
   },
   "file_extension": ".py",
   "mimetype": "text/x-python",
   "name": "python",
   "nbconvert_exporter": "python",
   "pygments_lexer": "ipython3",
   "version": "3.7.6"
  }
 },
 "nbformat": 4,
 "nbformat_minor": 2
}
