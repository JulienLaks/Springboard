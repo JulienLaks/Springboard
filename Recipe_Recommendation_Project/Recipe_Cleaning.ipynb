{
 "cells": [
  {
   "cell_type": "code",
   "execution_count": 2,
   "metadata": {},
   "outputs": [],
   "source": [
    "import pandas as pd\n",
    "import os\n",
    "import matplotlib.pyplot as plt\n",
    "import seaborn as sns\n",
    "import numpy as np\n",
    "import re\n",
    "import json\n",
    "sns.set()\n",
    "\n",
    "import warnings\n",
    "warnings.filterwarnings(\"ignore\")"
   ]
  },
  {
   "cell_type": "markdown",
   "metadata": {},
   "source": [
    "#### Import and clean recipes"
   ]
  },
  {
   "cell_type": "code",
   "execution_count": 2,
   "metadata": {},
   "outputs": [],
   "source": [
    "with open('allrecipes-recipes.json') as g : \n",
    "    urls=[json.loads(line)[\"url\"] for  line in g]\n",
    "\n",
    "recipe_IDs=pd.Series(urls).str.findall(r\"Recipe/([^/]+)\").str[0].apply(lambda x : int(x))"
   ]
  },
  {
   "cell_type": "code",
   "execution_count": 3,
   "metadata": {},
   "outputs": [],
   "source": [
    "with open('allrecipes-recipes.json') as g : \n",
    "    ingredients=[json.loads(line)[\"ingredients\"] for  line in g]\n",
    "ingredients=pd.Series(ingredients)"
   ]
  },
  {
   "cell_type": "code",
   "execution_count": 4,
   "metadata": {},
   "outputs": [],
   "source": [
    "with open('allrecipes-recipes.json') as g : \n",
    "    titles=[json.loads(line)[\"title\"] for  line in g]\n",
    "titles=pd.Series(titles)"
   ]
  },
  {
   "cell_type": "code",
   "execution_count": 5,
   "metadata": {},
   "outputs": [],
   "source": [
    "with open('allrecipes-recipes.json') as g : \n",
    "    prepare_time=[json.loads(line)[\"total_time_minutes\"] for  line in g]\n",
    "    \n",
    "prepare_time=pd.Series(prepare_time).apply(lambda x : int(x))"
   ]
  },
  {
   "cell_type": "code",
   "execution_count": 6,
   "metadata": {},
   "outputs": [],
   "source": [
    "with open('allrecipes-recipes.json') as g : \n",
    "    instructions=[json.loads(line)[\"instructions\"] for  line in g]\n",
    "    \n",
    "instructions=pd.Series(instructions)"
   ]
  },
  {
   "cell_type": "code",
   "execution_count": 7,
   "metadata": {},
   "outputs": [],
   "source": [
    "recipes=pd.DataFrame(recipe_IDs,columns=[\"Recipe_ID\"])\n",
    "recipes[\"Recipe_name\"]=titles\n",
    "recipes[\"Prepare_time\"]=prepare_time\n",
    "recipes[\"Ingredients\"]=ingredients\n",
    "recipes[\"Instructions\"]=instructions"
   ]
  },
  {
   "cell_type": "markdown",
   "metadata": {},
   "source": [
    "#### Import and clean reviews"
   ]
  },
  {
   "cell_type": "code",
   "execution_count": 8,
   "metadata": {
    "scrolled": true
   },
   "outputs": [],
   "source": [
    "#import and clean recipes\n",
    "f=open(\"Data/reviews.csv\")"
   ]
  },
  {
   "cell_type": "code",
   "execution_count": 9,
   "metadata": {},
   "outputs": [],
   "source": [
    "#Split recipes descriptions on \";\"\n",
    "lines=[]\n",
    "\n",
    "import codecs\n",
    "with codecs.open(\"data/raw-data_recipe.csv\", 'r', encoding='utf-8', errors='ignore') as fdata:\n",
    "    for line in fdata:\n",
    "        lines.append(line)\n",
    "\n",
    "lines_cut=[]\n",
    "for i in range(len(lines)):\n",
    "    if len(lines[i])>10 :\n",
    "        lines_cut.append(lines[i])"
   ]
  },
  {
   "cell_type": "code",
   "execution_count": 10,
   "metadata": {},
   "outputs": [],
   "source": [
    "#Extract Recipe IDs\n",
    "recipe_ID=pd.Series(lines_cut[1:]).str.split(\",\").str[0]\n",
    "recipe_ID=recipe_ID.apply(lambda x : (int(x)))"
   ]
  },
  {
   "cell_type": "code",
   "execution_count": 11,
   "metadata": {},
   "outputs": [],
   "source": [
    "#Extract Recipe Ratings\n",
    "ratings=[re.findall(r\"\\'rating\\': (.)\", line) for line in lines_cut[1:]]"
   ]
  },
  {
   "cell_type": "code",
   "execution_count": 12,
   "metadata": {
    "scrolled": true
   },
   "outputs": [],
   "source": [
    "#Extract Reviewer ID\n",
    "reviewer_ID=[re.findall(r\"(\\w+): {\\'rating\\':\",line) for line in lines_cut[1:]]"
   ]
  },
  {
   "cell_type": "code",
   "execution_count": 13,
   "metadata": {},
   "outputs": [],
   "source": [
    "#Extract Recipe Reviews\n",
    "reviews=pd.Series(lines_cut[1:]).str.findall(r\"\\'text\\': u.(.+?)follow\")\n",
    "reviews=[[re.sub(r\"[\\\"\\',\\\\]\", r\"\",comment) for comment in review] for review in reviews]"
   ]
  },
  {
   "cell_type": "code",
   "execution_count": 14,
   "metadata": {},
   "outputs": [],
   "source": [
    "#Group Reviewer ID, Rating and Review into DataFrame\n",
    "df=pd.DataFrame({\"Reviewer_ID\":reviewer_ID, \"Review\" : reviews ,\"Rating\" : ratings, },index=recipe_ID)"
   ]
  },
  {
   "cell_type": "code",
   "execution_count": 15,
   "metadata": {},
   "outputs": [],
   "source": [
    "df.to_csv(\"df_temp.csv\",index=False)"
   ]
  },
  {
   "cell_type": "code",
   "execution_count": 16,
   "metadata": {},
   "outputs": [],
   "source": [
    "#Unroll reviews for each recipe\n",
    "df2=pd.DataFrame({'Recipe_ID':np.repeat(df.index, df[\"Reviewer_ID\"].str.len()),\n",
    "                  'Reviewer_ID': np.concatenate(df[\"Reviewer_ID\"].values)})"
   ]
  },
  {
   "cell_type": "code",
   "execution_count": null,
   "metadata": {},
   "outputs": [],
   "source": [
    "df2[\"Rating\"]=np.concatenate(df[\"Rating\"].values)\n",
    "df2[\"Review\"]=np.concatenate(df[\"Review\"].values)"
   ]
  },
  {
   "cell_type": "code",
   "execution_count": null,
   "metadata": {},
   "outputs": [],
   "source": [
    "reviews=df2"
   ]
  },
  {
   "cell_type": "markdown",
   "metadata": {},
   "source": [
    "#### Keep only recipes that are both features in the reviews and recipes dataframes"
   ]
  },
  {
   "cell_type": "code",
   "execution_count": null,
   "metadata": {},
   "outputs": [],
   "source": [
    "reviews=reviews[reviews[\"Recipe_ID\"].isin(recipes[\"Recipe_ID\"])]"
   ]
  },
  {
   "cell_type": "code",
   "execution_count": null,
   "metadata": {},
   "outputs": [],
   "source": [
    "recipes=recipes[recipes[\"Recipe_ID\"].isin(reviews[\"Recipe_ID\"])]"
   ]
  },
  {
   "cell_type": "markdown",
   "metadata": {},
   "source": [
    "#### Simple preprocessing"
   ]
  },
  {
   "cell_type": "code",
   "execution_count": null,
   "metadata": {},
   "outputs": [],
   "source": [
    "#Add column with ratings\n",
    "ratings=reviews.groupby(\"Recipe_ID\")[\"Rating\"].mean()\n",
    "recipes=recipes.set_index(\"Recipe_ID\")\n",
    "recipes[\"Rating\"]=ratings\n",
    "recipes=recipes[['Recipe_name', 'Rating','Prepare_time', 'Ingredients', 'Instructions',]]"
   ]
  },
  {
   "cell_type": "code",
   "execution_count": null,
   "metadata": {},
   "outputs": [],
   "source": [
    "#lower  recipes\n",
    "recipes[\"Ingredients\"]=recipes[\"Ingredients\"].str.lower()\n",
    "recipes[\"Instructions\"]=recipes[\"Instructions\"].str.lower()"
   ]
  },
  {
   "cell_type": "code",
   "execution_count": null,
   "metadata": {},
   "outputs": [],
   "source": [
    "reviews[\"Review\"]=reviews[\"Review\"].str.lower()"
   ]
  },
  {
   "cell_type": "markdown",
   "metadata": {},
   "source": [
    "#### Save cleaned reviews and recipes"
   ]
  },
  {
   "cell_type": "code",
   "execution_count": null,
   "metadata": {},
   "outputs": [],
   "source": [
    "reviews.to_csv(\"reviews_clean.csv\",index=False)"
   ]
  },
  {
   "cell_type": "code",
   "execution_count": null,
   "metadata": {},
   "outputs": [],
   "source": [
    "recipes.to_csv(\"recipes_clean.csv\",index=False)"
   ]
  },
  {
   "cell_type": "code",
   "execution_count": null,
   "metadata": {},
   "outputs": [],
   "source": []
  }
 ],
 "metadata": {
  "kernelspec": {
   "display_name": "snowflakes",
   "language": "python",
   "name": "snowflakes"
  },
  "language_info": {
   "codemirror_mode": {
    "name": "ipython",
    "version": 3
   },
   "file_extension": ".py",
   "mimetype": "text/x-python",
   "name": "python",
   "nbconvert_exporter": "python",
   "pygments_lexer": "ipython3",
   "version": "3.6.10"
  }
 },
 "nbformat": 4,
 "nbformat_minor": 2
}
