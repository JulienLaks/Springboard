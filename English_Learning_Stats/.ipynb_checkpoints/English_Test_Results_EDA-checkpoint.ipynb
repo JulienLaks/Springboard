{
 "cells": [
  {
   "cell_type": "code",
   "execution_count": 129,
   "metadata": {
    "scrolled": true
   },
   "outputs": [],
   "source": [
    "import pandas as pd\n",
    "import matplotlib.pyplot as plt\n",
    "import seaborn as sns\n",
    "import numpy as np\n",
    "sns.set()"
   ]
  },
  {
   "cell_type": "code",
   "execution_count": 59,
   "metadata": {},
   "outputs": [
    {
     "name": "stderr",
     "output_type": "stream",
     "text": [
      "/Users/mazeppa/opt/anaconda3/envs/snowflakes/lib/python3.6/site-packages/IPython/core/interactiveshell.py:3063: DtypeWarning: Columns (22,23) have mixed types.Specify dtype option on import or set low_memory=False.\n",
      "  interactivity=interactivity, compiler=compiler, result=result)\n"
     ]
    }
   ],
   "source": [
    "df=pd.read_csv(\"data.csv\")\n",
    "df=df[df[\"natlangs\"].notna()]"
   ]
  },
  {
   "cell_type": "code",
   "execution_count": 64,
   "metadata": {},
   "outputs": [],
   "source": [
    "df[\"bilingual\"]=(df[\"natlangs\"].str.split(\",\").apply(lambda x :len(x))>1)*1"
   ]
  },
  {
   "cell_type": "code",
   "execution_count": 4,
   "metadata": {},
   "outputs": [
    {
     "data": {
      "text/html": [
       "<div>\n",
       "<style scoped>\n",
       "    .dataframe tbody tr th:only-of-type {\n",
       "        vertical-align: middle;\n",
       "    }\n",
       "\n",
       "    .dataframe tbody tr th {\n",
       "        vertical-align: top;\n",
       "    }\n",
       "\n",
       "    .dataframe thead th {\n",
       "        text-align: right;\n",
       "    }\n",
       "</style>\n",
       "<table border=\"1\" class=\"dataframe\">\n",
       "  <thead>\n",
       "    <tr style=\"text-align: right;\">\n",
       "      <th></th>\n",
       "      <th>Unnamed: 0</th>\n",
       "      <th>id</th>\n",
       "      <th>date</th>\n",
       "      <th>time</th>\n",
       "      <th>gender</th>\n",
       "      <th>age</th>\n",
       "      <th>natlangs</th>\n",
       "      <th>primelangs</th>\n",
       "      <th>dyslexia</th>\n",
       "      <th>psychiatric</th>\n",
       "      <th>...</th>\n",
       "      <th>q34_6</th>\n",
       "      <th>q34_8</th>\n",
       "      <th>q35_1</th>\n",
       "      <th>q35_2</th>\n",
       "      <th>q35_4</th>\n",
       "      <th>q35_5</th>\n",
       "      <th>q35_7</th>\n",
       "      <th>q35_8</th>\n",
       "      <th>correct</th>\n",
       "      <th>elogit</th>\n",
       "    </tr>\n",
       "  </thead>\n",
       "  <tbody>\n",
       "    <tr>\n",
       "      <th>0</th>\n",
       "      <td>1</td>\n",
       "      <td>2.0</td>\n",
       "      <td>2014-05-29</td>\n",
       "      <td>01:00:55</td>\n",
       "      <td>male</td>\n",
       "      <td>31</td>\n",
       "      <td>English</td>\n",
       "      <td>English</td>\n",
       "      <td>0</td>\n",
       "      <td>0</td>\n",
       "      <td>...</td>\n",
       "      <td>1</td>\n",
       "      <td>1</td>\n",
       "      <td>1</td>\n",
       "      <td>1</td>\n",
       "      <td>1</td>\n",
       "      <td>1</td>\n",
       "      <td>1</td>\n",
       "      <td>1</td>\n",
       "      <td>0.978947</td>\n",
       "      <td>3.621671</td>\n",
       "    </tr>\n",
       "    <tr>\n",
       "      <th>1</th>\n",
       "      <td>2</td>\n",
       "      <td>3.0</td>\n",
       "      <td>2014-05-29</td>\n",
       "      <td>01:01:03</td>\n",
       "      <td>male</td>\n",
       "      <td>30</td>\n",
       "      <td>English</td>\n",
       "      <td>English</td>\n",
       "      <td>0</td>\n",
       "      <td>1</td>\n",
       "      <td>...</td>\n",
       "      <td>1</td>\n",
       "      <td>1</td>\n",
       "      <td>1</td>\n",
       "      <td>1</td>\n",
       "      <td>1</td>\n",
       "      <td>1</td>\n",
       "      <td>1</td>\n",
       "      <td>1</td>\n",
       "      <td>1.000000</td>\n",
       "      <td>5.252273</td>\n",
       "    </tr>\n",
       "    <tr>\n",
       "      <th>2</th>\n",
       "      <td>3</td>\n",
       "      <td>3.0</td>\n",
       "      <td>2014-05-29</td>\n",
       "      <td>01:01:03</td>\n",
       "      <td>male</td>\n",
       "      <td>30</td>\n",
       "      <td>English</td>\n",
       "      <td>English</td>\n",
       "      <td>0</td>\n",
       "      <td>1</td>\n",
       "      <td>...</td>\n",
       "      <td>1</td>\n",
       "      <td>1</td>\n",
       "      <td>1</td>\n",
       "      <td>1</td>\n",
       "      <td>1</td>\n",
       "      <td>1</td>\n",
       "      <td>1</td>\n",
       "      <td>1</td>\n",
       "      <td>1.000000</td>\n",
       "      <td>5.252273</td>\n",
       "    </tr>\n",
       "    <tr>\n",
       "      <th>3</th>\n",
       "      <td>4</td>\n",
       "      <td>4.0</td>\n",
       "      <td>2014-05-29</td>\n",
       "      <td>01:01:13</td>\n",
       "      <td>male</td>\n",
       "      <td>19</td>\n",
       "      <td>English</td>\n",
       "      <td>English</td>\n",
       "      <td>0</td>\n",
       "      <td>0</td>\n",
       "      <td>...</td>\n",
       "      <td>1</td>\n",
       "      <td>1</td>\n",
       "      <td>1</td>\n",
       "      <td>1</td>\n",
       "      <td>1</td>\n",
       "      <td>0</td>\n",
       "      <td>1</td>\n",
       "      <td>1</td>\n",
       "      <td>0.905263</td>\n",
       "      <td>2.208853</td>\n",
       "    </tr>\n",
       "    <tr>\n",
       "      <th>4</th>\n",
       "      <td>5</td>\n",
       "      <td>5.0</td>\n",
       "      <td>2014-05-29</td>\n",
       "      <td>01:01:19</td>\n",
       "      <td>male</td>\n",
       "      <td>20</td>\n",
       "      <td>Chinese/Mandarin, English</td>\n",
       "      <td>Chinese/Mandarin, English</td>\n",
       "      <td>0</td>\n",
       "      <td>0</td>\n",
       "      <td>...</td>\n",
       "      <td>1</td>\n",
       "      <td>1</td>\n",
       "      <td>1</td>\n",
       "      <td>1</td>\n",
       "      <td>1</td>\n",
       "      <td>0</td>\n",
       "      <td>1</td>\n",
       "      <td>1</td>\n",
       "      <td>0.947368</td>\n",
       "      <td>2.800602</td>\n",
       "    </tr>\n",
       "  </tbody>\n",
       "</table>\n",
       "<p>5 rows × 128 columns</p>\n",
       "</div>"
      ],
      "text/plain": [
       "   Unnamed: 0   id        date      time gender  age  \\\n",
       "0           1  2.0  2014-05-29  01:00:55   male   31   \n",
       "1           2  3.0  2014-05-29  01:01:03   male   30   \n",
       "2           3  3.0  2014-05-29  01:01:03   male   30   \n",
       "3           4  4.0  2014-05-29  01:01:13   male   19   \n",
       "4           5  5.0  2014-05-29  01:01:19   male   20   \n",
       "\n",
       "                    natlangs                 primelangs  dyslexia  \\\n",
       "0                    English                    English         0   \n",
       "1                    English                    English         0   \n",
       "2                    English                    English         0   \n",
       "3                    English                    English         0   \n",
       "4  Chinese/Mandarin, English  Chinese/Mandarin, English         0   \n",
       "\n",
       "   psychiatric  ... q34_6 q34_8  q35_1  q35_2  q35_4  q35_5  q35_7 q35_8  \\\n",
       "0            0  ...     1     1      1      1      1      1      1     1   \n",
       "1            1  ...     1     1      1      1      1      1      1     1   \n",
       "2            1  ...     1     1      1      1      1      1      1     1   \n",
       "3            0  ...     1     1      1      1      1      0      1     1   \n",
       "4            0  ...     1     1      1      1      1      0      1     1   \n",
       "\n",
       "    correct    elogit  \n",
       "0  0.978947  3.621671  \n",
       "1  1.000000  5.252273  \n",
       "2  1.000000  5.252273  \n",
       "3  0.905263  2.208853  \n",
       "4  0.947368  2.800602  \n",
       "\n",
       "[5 rows x 128 columns]"
      ]
     },
     "execution_count": 4,
     "metadata": {},
     "output_type": "execute_result"
    }
   ],
   "source": [
    "df.head()"
   ]
  },
  {
   "cell_type": "markdown",
   "metadata": {},
   "source": [
    "#### Simple statistics"
   ]
  },
  {
   "cell_type": "code",
   "execution_count": 31,
   "metadata": {},
   "outputs": [
    {
     "name": "stdout",
     "output_type": "stream",
     "text": [
      "Unnamed: 0\n",
      "id\n",
      "date\n",
      "time\n",
      "gender\n",
      "age\n",
      "natlangs\n",
      "primelangs\n",
      "dyslexia\n",
      "psychiatric\n",
      "education\n",
      "tests\n",
      "Eng_start\n",
      "Eng_country_yrs\n",
      "house_Eng\n",
      "dictionary\n",
      "already_participated\n",
      "countries\n",
      "currcountry\n",
      "US_region\n",
      "UK_region\n",
      "Can_region\n",
      "Ebonics\n",
      "Ir_region\n",
      "UK_constituency\n",
      "nat_Eng\n",
      "prime_Eng\n",
      "speaker_cat\n",
      "type\n",
      "Lived_Eng_per\n"
     ]
    }
   ],
   "source": [
    "for column in df.columns[:30] :\n",
    "     print(column)"
   ]
  },
  {
   "cell_type": "code",
   "execution_count": 5,
   "metadata": {},
   "outputs": [
    {
     "name": "stdout",
     "output_type": "stream",
     "text": [
      "number of total participants :  669498\n"
     ]
    }
   ],
   "source": [
    "print(\"number of total participants : \", len(df));"
   ]
  },
  {
   "cell_type": "code",
   "execution_count": 6,
   "metadata": {},
   "outputs": [
    {
     "data": {
      "text/plain": [
       "Text(0.5, 1.0, \"['Age distribution of Participants']\")"
      ]
     },
     "execution_count": 6,
     "metadata": {},
     "output_type": "execute_result"
    },
    {
     "data": {
      "image/png": "[encoded data removed]",
      "text/plain": [
       "<Figure size 1440x360 with 2 Axes>"
      ]
     },
     "metadata": {},
     "output_type": "display_data"
    }
   ],
   "source": [
    "fig,axes=plt.subplots(1,2,figsize=(20,5))\n",
    "\n",
    "sns.barplot(x=df.groupby(\"gender\").size().index,y=df.groupby(\"gender\").size().values,ax=axes[0]); \n",
    "axes[0].set_title(\"Test Participants by gender\",fontsize=13);\n",
    "\n",
    "axes[1].hist(df[\"age\"],bins=20);\n",
    "axes[1].set_title([\"Age distribution of Participants\"])"
   ]
  },
  {
   "cell_type": "code",
   "execution_count": 8,
   "metadata": {},
   "outputs": [
    {
     "data": {
      "image/png": "[encoded data removed]",
      "text/plain": [
       "<Figure size 432x288 with 1 Axes>"
      ]
     },
     "metadata": {},
     "output_type": "display_data"
    }
   ],
   "source": [
    "#plt.subplots(figsize=(8,6))\n",
    "plt.hist(df[\"correct\"],bins=20);\n",
    "plt.title(\"Distribution of scores (% of correct answers)\",fontsize=15);"
   ]
  },
  {
   "cell_type": "code",
   "execution_count": 66,
   "metadata": {},
   "outputs": [
    {
     "data": {
      "image/png": "[encoded data removed]",
      "text/plain": [
       "<Figure size 432x288 with 1 Axes>"
      ]
     },
     "metadata": {},
     "output_type": "display_data"
    }
   ],
   "source": [
    "sns.boxplot(x=\"nat_Eng\",y=\"correct\",hue=\"bilingual\",data=df);"
   ]
  },
  {
   "cell_type": "code",
   "execution_count": 71,
   "metadata": {},
   "outputs": [],
   "source": [
    "nat_eng=df[df[\"nat_Eng\"]==1]\n",
    "nat_other=df[df[\"nat_Eng\"]==0]"
   ]
  },
  {
   "cell_type": "code",
   "execution_count": 150,
   "metadata": {},
   "outputs": [
    {
     "name": "stdout",
     "output_type": "stream",
     "text": [
      "bilingual native english speakers performance :  0.9453559521400862\n"
     ]
    }
   ],
   "source": [
    "print (\"bilingual native english speakers performance : \",  nat_eng[nat_eng[\"bilingual\"]==1][\"correct\"].mean())\n",
    "print (\"bilingual native english speakers performance : \",  nat_eng[nat_eng[\"bilingual\"]==0][\"correct\"].mean())"
   ]
  },
  {
   "cell_type": "code",
   "execution_count": 116,
   "metadata": {
    "scrolled": true
   },
   "outputs": [
    {
     "data": {
      "text/plain": [
       "0.9657427004080517"
      ]
     },
     "execution_count": 116,
     "metadata": {},
     "output_type": "execute_result"
    }
   ],
   "source": [
    "nat_eng[nat_eng[\"bilingual\"]==0][\"correct\"].mean()"
   ]
  },
  {
   "cell_type": "markdown",
   "metadata": {},
   "source": [
    "#### Is the difference in performance between bilingual native english speakers and unilingual native english speakers significant ?  "
   ]
  },
  {
   "cell_type": "code",
   "execution_count": 112,
   "metadata": {},
   "outputs": [
    {
     "data": {
      "image/png": "[encoded data removed]",
      "text/plain": [
       "<Figure size 576x360 with 1 Axes>"
      ]
     },
     "metadata": {},
     "output_type": "display_data"
    }
   ],
   "source": [
    "fig,ax=plt.subplots(figsize=(8,5))\n",
    "plt.hist(nat_eng[nat_eng[\"bilingual\"]==1][\"correct\"],kde=False,norm_hist=True);\n",
    "sns.distplot(nat_eng[nat_eng[\"bilingual\"]==0][\"correct\"],kde=False,norm_hist=True);"
   ]
  },
  {
   "cell_type": "code",
   "execution_count": 126,
   "metadata": {},
   "outputs": [],
   "source": [
    "# scikit-learn bootstrap\n",
    "from sklearn.utils import resample\n",
    "\n",
    "x=nat_eng[\"correct\"]\n",
    "y=nat_eng[nat_eng[\"bilingual\"]==1][\"correct\"]\n",
    "z=nat_eng[nat_eng[\"bilingual\"]==0][\"correct\"]\n",
    "\n",
    "y_tilda=y-y.mean()+x.mean()\n",
    "z_tilda=z-z.mean()+x.mean()\n"
   ]
  },
  {
   "cell_type": "code",
   "execution_count": 144,
   "metadata": {},
   "outputs": [],
   "source": [
    "resamples=1000\n",
    "\n",
    "# prepare bootstrap sample\n",
    "boostrap_means_y=[resample(y_tilda, replace=True, n_samples=len(y)).mean() for i in range(1000)]\n",
    "boostrap_means_z=[resample(z_tilda, replace=True, n_samples=len(y)).mean() for i in range(1000)]"
   ]
  },
  {
   "cell_type": "code",
   "execution_count": 145,
   "metadata": {},
   "outputs": [
    {
     "data": {
      "text/plain": [
       "0.0"
      ]
     },
     "execution_count": 145,
     "metadata": {},
     "output_type": "execute_result"
    }
   ],
   "source": [
    "np.sum(np.array(np.array(boostrap_means_y) - np.array(boostrap_means_z)) > np.array(np.abs(y.mean()-z.mean())))/resamples"
   ]
  },
  {
   "cell_type": "code",
   "execution_count": null,
   "metadata": {},
   "outputs": [],
   "source": []
  }
 ],
 "metadata": {
  "kernelspec": {
   "display_name": "snowflakes",
   "language": "python",
   "name": "snowflakes"
  },
  "language_info": {
   "codemirror_mode": {
    "name": "ipython",
    "version": 3
   },
   "file_extension": ".py",
   "mimetype": "text/x-python",
   "name": "python",
   "nbconvert_exporter": "python",
   "pygments_lexer": "ipython3",
   "version": "3.6.10"
  }
 },
 "nbformat": 4,
 "nbformat_minor": 4
}
